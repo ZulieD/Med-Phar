{
 "cells": [
  {
   "cell_type": "code",
   "execution_count": 4,
   "metadata": {},
   "outputs": [],
   "source": [
    "import pandas as pd \n",
    "\n",
    "medicament = 'DICLECTIN'\n",
    "df_medicament=pd.read_csv(\"../../Analyse/df_medicament.csv\")\n",
    "df=pd.read_csv(\"../../../df_patient.csv\")\n",
    "\n",
    "filtered_df_medicament = df_medicament[df_medicament['DRUGNAME'] == medicament]"
   ]
  },
  {
   "cell_type": "code",
   "execution_count": 7,
   "metadata": {},
   "outputs": [
    {
     "name": "stdout",
     "output_type": "stream",
     "text": [
      "        DRUGNAME                            INDICATION_NAME_FR  id_medicament\n",
      "0      DICLECTIN             Nausées matinales de la grossesse              1\n",
      "2      DICLECTIN  Produit utilisé pour une indication inconnue              3\n",
      "484    DICLECTIN                                        Nausée            485\n",
      "8275   DICLECTIN                                   Vomissement           8276\n",
      "43951  DICLECTIN                              Hyperchlorhydrie          43952\n",
      "51718  DICLECTIN                                   Prophylaxie          51719\n",
      "51724  DICLECTIN        Exposition foetale durant la grossesse          51725\n",
      "61699  DICLECTIN                       Diabète sucré de type 2          61700\n",
      "71181  DICLECTIN         Prophylaxie des nausée et vomissement          71182\n"
     ]
    }
   ],
   "source": [
    "print(filtered_df_medicament)"
   ]
  }
 ],
 "metadata": {
  "kernelspec": {
   "display_name": "Python 3",
   "language": "python",
   "name": "python3"
  },
  "language_info": {
   "codemirror_mode": {
    "name": "ipython",
    "version": 3
   },
   "file_extension": ".py",
   "mimetype": "text/x-python",
   "name": "python",
   "nbconvert_exporter": "python",
   "pygments_lexer": "ipython3",
   "version": "3.9.0"
  }
 },
 "nbformat": 4,
 "nbformat_minor": 2
}
